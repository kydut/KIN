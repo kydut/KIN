{
 "cells": [
  {
   "cell_type": "code",
   "execution_count": 1,
   "metadata": {
    "collapsed": false
   },
   "outputs": [],
   "source": [
    "import sqlite3\n",
    "field_count=10\n",
    "def convert(value):\n",
    "    if value.startswith('~'):\n",
    "        return value.strip('~')\n",
    "    if not value:\n",
    "        value='0'\n",
    "    return float(value)\n",
    "conn=sqlite3.connect('food.db')\n",
    "curs=conn.execute(\"\"\"\n",
    "CREATE TABLE food(\n",
    "  id          TEXT      PRIMARY KEY,\n",
    "  desc        TEXT,     \n",
    "  water       FLOAT,     \n",
    "  kcal        FLOAT,      \n",
    "  protein     FLOAT,      \n",
    "  fat         FLOAT,      \n",
    "  ash         FLOAT,          \n",
    "  carbs       FLOAT,       \n",
    "  fiber       FLOAT,       \n",
    "  sugar       FLOAT            \n",
    "  )\n",
    "  \"\"\" )\n",
    "\n",
    "\n",
    "query='INSERT INTO food VALUES (?,?,?,?,?,?,?,?,?,?)'\n",
    "\n",
    "for line in open('ABBREV.txt'):\n",
    "    fields=line.split('^')                # use^ as sign to break part\n",
    "    vals=[convert(f) for f in fields[:field_count]]\n",
    "    curs.execute(query,vals)\n",
    "\n",
    "conn.commit()\n",
    "conn.close()"
   ]
  },
  {
   "cell_type": "code",
   "execution_count": 4,
   "metadata": {
    "collapsed": false
   },
   "outputs": [
    {
     "name": "stdout",
     "output_type": "stream",
     "text": [
      "SELECT * FROM food WHERE kcal<=100 AND fiber>=10 AND sugar ORDER BY sugar\n",
      "id: 09156\n",
      "desc: LEMON PEEL,RAW\n",
      "water: 81.6\n",
      "kcal: 47.0\n",
      "protein: 1.5\n",
      "fat: 0.3\n",
      "ash: 0.6\n",
      "carbs: 16.0\n",
      "fiber: 10.6\n",
      "sugar: 4.17\n",
      "\n",
      "id: 11974\n",
      "desc: GRAPE LEAVES,RAW\n",
      "water: 73.32\n",
      "kcal: 93.0\n",
      "protein: 5.6\n",
      "fat: 2.12\n",
      "ash: 1.65\n",
      "carbs: 17.31\n",
      "fiber: 11.0\n",
      "sugar: 6.3\n",
      "\n",
      "id: 09231\n",
      "desc: PASSION-FRUIT,(GRANADILLA),PURPLE,RAW\n",
      "water: 72.93\n",
      "kcal: 97.0\n",
      "protein: 2.2\n",
      "fat: 0.7\n",
      "ash: 0.8\n",
      "carbs: 23.38\n",
      "fiber: 10.4\n",
      "sugar: 11.2\n",
      "\n"
     ]
    }
   ],
   "source": [
    "import sqlite3\n",
    "conn=sqlite3.connect('food.db')\n",
    "curs=conn.cursor()  # 游标\n",
    "\n",
    "sys.argv[1]='kcal<=100 AND fiber>=10 AND sugar ORDER BY sugar'\n",
    "\n",
    "query='SELECT * FROM food WHERE %s'% sys.argv[1]\n",
    "print query\n",
    "curs.execute(query)\n",
    "names=[f[0] for f in curs.description]\n",
    "for row in curs.fetchall():\n",
    "    for pair in zip(names,row):\n",
    "        print '%s: %s'% pair\n",
    "    print"
   ]
  },
  {
   "cell_type": "code",
   "execution_count": null,
   "metadata": {
    "collapsed": true
   },
   "outputs": [],
   "source": []
  }
 ],
 "metadata": {
  "kernelspec": {
   "display_name": "Python 2",
   "language": "python",
   "name": "python2"
  },
  "language_info": {
   "codemirror_mode": {
    "name": "ipython",
    "version": 2
   },
   "file_extension": ".py",
   "mimetype": "text/x-python",
   "name": "python",
   "nbconvert_exporter": "python",
   "pygments_lexer": "ipython2",
   "version": "2.7.11"
  }
 },
 "nbformat": 4,
 "nbformat_minor": 0
}
