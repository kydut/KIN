{
 "cells": [
  {
   "cell_type": "code",
   "execution_count": 6,
   "metadata": {
    "collapsed": false
   },
   "outputs": [],
   "source": [
    "f=open(r'C:\\Users\\O\\Desktop\\something.txt')"
   ]
  },
  {
   "cell_type": "code",
   "execution_count": 1,
   "metadata": {
    "collapsed": false
   },
   "outputs": [
    {
     "data": {
      "text/plain": [
       "'Hel'"
      ]
     },
     "execution_count": 1,
     "metadata": {},
     "output_type": "execute_result"
    }
   ],
   "source": [
    "f=open(,'w')\n",
    "f.write('Hello')\n",
    "f.write('World')\n",
    "f.close()\n",
    "f=open('C:\\Users\\O\\Desktop\\something.txt','r')\n",
    "f.read(3)"
   ]
  },
  {
   "cell_type": "code",
   "execution_count": 2,
   "metadata": {
    "collapsed": false
   },
   "outputs": [
    {
     "data": {
      "text/plain": [
       "'loWorld'"
      ]
     },
     "execution_count": 2,
     "metadata": {},
     "output_type": "execute_result"
    }
   ],
   "source": [
    "f.read()"
   ]
  },
  {
   "cell_type": "code",
   "execution_count": 9,
   "metadata": {
    "collapsed": false
   },
   "outputs": [
    {
     "data": {
      "text/plain": [
       "'01234Here9012345678\\n9\\n0'"
      ]
     },
     "execution_count": 9,
     "metadata": {},
     "output_type": "execute_result"
    }
   ],
   "source": [
    "f=open('C:\\Users\\O\\Desktop\\something.txt','w')\n",
    "f.write('0123456789012345678\\n9\\n0')\n",
    "f.seek(5)\n",
    "f.write('Here') # recover\n",
    "f.close()\n",
    "f=open('C:\\Users\\O\\Desktop\\something.txt')\n",
    "f.read()"
   ]
  },
  {
   "cell_type": "code",
   "execution_count": 15,
   "metadata": {
    "collapsed": false
   },
   "outputs": [
    {
     "name": "stdout",
     "output_type": "stream",
     "text": [
      "welcome to this file.\n",
      "There is nothing here except\n",
      "This stupid haiku\n",
      "elc\n",
      "om\n",
      "welcome to this file.\n",
      "\n",
      "There is nothing here except\n",
      "\n",
      "This stupid haiku\n"
     ]
    }
   ],
   "source": [
    "f=open('C:\\Users\\O\\Desktop\\something.txt')\n",
    "print f.read()\n",
    "f.seek(1)    # back to position k\n",
    "print f.read(3) \n",
    "print f.read(2)\n",
    "f.tell()    # return position now\n",
    "f.seek(0)\n",
    "print f.readline()  # stop reading until find \\n\n",
    "print f.readline()\n",
    "print f.readline()"
   ]
  },
  {
   "cell_type": "code",
   "execution_count": 13,
   "metadata": {
    "collapsed": false
   },
   "outputs": [
    {
     "name": "stdout",
     "output_type": "stream",
     "text": [
      "0: welcome to this file.\n",
      "\n",
      "1: There is nothing here except\n",
      "\n",
      "2: This stupid haiku\n"
     ]
    }
   ],
   "source": [
    "f=open('C:\\Users\\O\\Desktop\\something.txt')\n",
    "for i in range(3):\n",
    "    print str(i)+ ': '+ f.readline()"
   ]
  },
  {
   "cell_type": "code",
   "execution_count": 14,
   "metadata": {
    "collapsed": false
   },
   "outputs": [
    {
     "name": "stdout",
     "output_type": "stream",
     "text": [
      "['welcome to this file.\\n',\n",
      " 'There is nothing here except\\n',\n",
      " 'This stupid haiku']\n"
     ]
    }
   ],
   "source": [
    "import pprint\n",
    "pprint.pprint(open(r'C:\\Users\\O\\Desktop\\something.txt').readlines())"
   ]
  },
  {
   "cell_type": "code",
   "execution_count": 37,
   "metadata": {
    "collapsed": false
   },
   "outputs": [
    {
     "name": "stdout",
     "output_type": "stream",
     "text": [
      "processing:  \u0000\n",
      "processing:  \u0000\n",
      "processing:  \u0000\n",
      "processing:  \u0000\n",
      "processing:  \u0000\n",
      "processing:  H\n",
      "processing:  i\n",
      "processing:  ,\n",
      "processing:   \n",
      "processing:  T\n",
      "processing:  h\n",
      "processing:  a\n",
      "processing:  t\n",
      "processing:  '\n",
      "processing:  s\n",
      "processing:   \n",
      "processing:  f\n",
      "processing:  u\n",
      "processing:  n\n",
      "processing:  n\n",
      "processing:  y\n",
      "processing:  ~\n"
     ]
    }
   ],
   "source": [
    "def process(string):\n",
    "    print 'processing: ',string\n",
    "\n",
    "f=open(r'C:\\Users\\O\\Desktop\\something.txt')\n",
    "while True:\n",
    "    char=f.read(1)\n",
    "    if not char:break\n",
    "    process(char)\n",
    "f.close() "
   ]
  },
  {
   "cell_type": "code",
   "execution_count": 36,
   "metadata": {
    "collapsed": false
   },
   "outputs": [
    {
     "name": "stdout",
     "output_type": "stream",
     "text": [
      "5\n"
     ]
    }
   ],
   "source": [
    "f=open(r'C:\\Users\\O\\Desktop\\something.txt')\n",
    "k=0\n",
    "while f.read(1):\n",
    "    k=k+1\n",
    "f=open('C:\\Users\\O\\Desktop\\something.txt','w')\n",
    "f.seek(k)\n",
    "print k\n",
    "f.write('Hi, That\\'s funny~')\n",
    "f.close()"
   ]
  },
  {
   "cell_type": "code",
   "execution_count": 38,
   "metadata": {
    "collapsed": false
   },
   "outputs": [
    {
     "name": "stdout",
     "output_type": "stream",
     "text": [
      "processing:  \u0000\u0000\u0000\u0000\u0000Hi, That's funny~\n"
     ]
    }
   ],
   "source": [
    "f=open('C:\\Users\\O\\Desktop\\something.txt')\n",
    "for line in f.readlines():\n",
    "    process(line)\n",
    "f.close()"
   ]
  },
  {
   "cell_type": "code",
   "execution_count": 39,
   "metadata": {
    "collapsed": false
   },
   "outputs": [
    {
     "name": "stdout",
     "output_type": "stream",
     "text": [
      "processing:  \u0000\u0000\u0000\u0000\u0000Hi, That's funny~\n"
     ]
    }
   ],
   "source": [
    "f=open('C:\\Users\\O\\Desktop\\something.txt')\n",
    "for line in f:\n",
    "    process(line)\n",
    "f.close()"
   ]
  },
  {
   "cell_type": "code",
   "execution_count": null,
   "metadata": {
    "collapsed": true
   },
   "outputs": [],
   "source": []
  }
 ],
 "metadata": {
  "kernelspec": {
   "display_name": "Python 2",
   "language": "python",
   "name": "python2"
  },
  "language_info": {
   "codemirror_mode": {
    "name": "ipython",
    "version": 2
   },
   "file_extension": ".py",
   "mimetype": "text/x-python",
   "name": "python",
   "nbconvert_exporter": "python",
   "pygments_lexer": "ipython2",
   "version": "2.7.11"
  }
 },
 "nbformat": 4,
 "nbformat_minor": 0
}
