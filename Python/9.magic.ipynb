{
 "cells": [
  {
   "cell_type": "code",
   "execution_count": 6,
   "metadata": {
    "collapsed": false
   },
   "outputs": [],
   "source": [
    "class A:\n",
    "    def hello(self):\n",
    "        print 'Hello, I\\'m A'\n",
    "class B(A):\n",
    "    pass"
   ]
  },
  {
   "cell_type": "code",
   "execution_count": 8,
   "metadata": {
    "collapsed": false
   },
   "outputs": [],
   "source": [
    "class A:\n",
    "    def hello(self):\n",
    "        print 'Hello, I\\'m A'\n",
    "class B(A):\n",
    "    def hello(self):\n",
    "        print 'Hello, I\\'m B'"
   ]
  },
  {
   "cell_type": "code",
   "execution_count": 38,
   "metadata": {
    "collapsed": true
   },
   "outputs": [],
   "source": [
    "class Bird:\n",
    "    def __init__(self):\n",
    "        self.hungry = True\n",
    "    def eat(self):\n",
    "        if self.hungry:\n",
    "            print 'Aaaaaah...'\n",
    "            self.hungry=False\n",
    "        else:\n",
    "            print 'No,thanks!'\n",
    "class SongBird(Bird):\n",
    "    def __init__(self):\n",
    "        Bird.__init__(self)\n",
    "        self.sound='Squawk!'\n",
    "    def sing(self):\n",
    "        print self.sound"
   ]
  },
  {
   "cell_type": "code",
   "execution_count": 39,
   "metadata": {
    "collapsed": false
   },
   "outputs": [
    {
     "name": "stdout",
     "output_type": "stream",
     "text": [
      "Squawk!\n",
      "Aaaaaah...\n"
     ]
    }
   ],
   "source": [
    "sp=SongBird()\n",
    "sp.sing()\n",
    "sp.eat()"
   ]
  },
  {
   "cell_type": "code",
   "execution_count": 2,
   "metadata": {
    "collapsed": true
   },
   "outputs": [],
   "source": [
    "__metaclass__=type\n",
    "class Bird:\n",
    "    def __init__(self):\n",
    "        self.hungry = True\n",
    "    def eat(self):\n",
    "        if self.hungry:\n",
    "            print 'Aaaaaah...'\n",
    "            self.hungry=False\n",
    "        else:\n",
    "            print 'No,thanks!'\n",
    "class SongBird(Bird):\n",
    "    def __init__(self):\n",
    "        super(SongBird,self).__init__()\n",
    "        self.sound='Squawk!'\n",
    "    def sing(self):\n",
    "        print self.sound"
   ]
  },
  {
   "cell_type": "code",
   "execution_count": 3,
   "metadata": {
    "collapsed": false
   },
   "outputs": [
    {
     "name": "stdout",
     "output_type": "stream",
     "text": [
      "Aaaaaah...\n"
     ]
    }
   ],
   "source": [
    "sb=SongBird()\n",
    "sb.eat()"
   ]
  },
  {
   "cell_type": "code",
   "execution_count": 22,
   "metadata": {
    "collapsed": false
   },
   "outputs": [],
   "source": [
    "# Arithmetic Sequence\n",
    "def checkIndex(key):\n",
    "    if not isinstance(key,(int,long)): raise TypeError\n",
    "    if key<0: raise IndexError\n",
    "\n",
    "class ArithmeticSequence:\n",
    "    def __init__(self,start=0,step=1):\n",
    "        self.start=start\n",
    "        self.step=step\n",
    "        self.changed={}\n",
    "    def __getitem__(self,key):\n",
    "        checkIndex(key)\n",
    "        try: return self.changed[key]\n",
    "        except KeyError:\n",
    "            return self.start+key*self.step\n",
    "    def __setitem__(self,key,value):\n",
    "        checkIndex(key)\n",
    "        self.changed[key]=value"
   ]
  },
  {
   "cell_type": "code",
   "execution_count": 29,
   "metadata": {
    "collapsed": false
   },
   "outputs": [
    {
     "name": "stdout",
     "output_type": "stream",
     "text": [
      "1 2 5\n",
      "1 30 5\n"
     ]
    }
   ],
   "source": [
    "s=ArithmeticSequence(1,1)\n",
    "print s[0],s[1],s[4]\n",
    "s[1]=30\n",
    "print s[0],s[1],s[4]"
   ]
  },
  {
   "cell_type": "code",
   "execution_count": 1,
   "metadata": {
    "collapsed": false
   },
   "outputs": [],
   "source": [
    "class CounterList(list):\n",
    "    def __init__(self,*args):\n",
    "        super(CounterList,self).__init__(*args)\n",
    "        self.counter=0\n",
    "    def __getitem__(self,index):  # 每次获取值得时候就会使self.counter加1\n",
    "        self.counter+=1\n",
    "        return super(CounterList,self).__getitem__(index)"
   ]
  },
  {
   "cell_type": "code",
   "execution_count": 23,
   "metadata": {
    "collapsed": false
   },
   "outputs": [
    {
     "name": "stdout",
     "output_type": "stream",
     "text": [
      "[0, 1, 4, 5, 6, 7, 8, 9]\n",
      "[0, 1, 4, 5, 6, 7, 8, 9]\n",
      "[9, 8, 7, 6, 5, 4, 1, 0]\n"
     ]
    },
    {
     "data": {
      "text/plain": [
       "4"
      ]
     },
     "execution_count": 23,
     "metadata": {},
     "output_type": "execute_result"
    }
   ],
   "source": [
    "c1=CounterList(range(10))\n",
    "del c1[2:4]\n",
    "c1.counter\n",
    "c1[4]+c1[3]\n",
    "c1.counter\n",
    "c1[4]+c1[3]\n",
    "print c1\n",
    "c1.sort(reverse=False)  # sort(reverse=True/False)\n",
    "print c1\n",
    "c1.sort(reverse=True)\n",
    "print c1\n",
    "c1.counter"
   ]
  },
  {
   "cell_type": "code",
   "execution_count": 25,
   "metadata": {
    "collapsed": false
   },
   "outputs": [],
   "source": [
    "class Rectangle:\n",
    "    def __init__(self):\n",
    "        self.width=0\n",
    "        self.heigtht=0\n",
    "    def setSize(self,size):\n",
    "        self.width,self.height=size\n",
    "    def getSize(self):\n",
    "        return self.width,self.height"
   ]
  },
  {
   "cell_type": "code",
   "execution_count": 30,
   "metadata": {
    "collapsed": false
   },
   "outputs": [
    {
     "name": "stdout",
     "output_type": "stream",
     "text": [
      "10 100\n"
     ]
    }
   ],
   "source": [
    "r=Rectangle()\n",
    "r.setSize((10,100))\n",
    "print r.width,r.height"
   ]
  },
  {
   "cell_type": "code",
   "execution_count": 39,
   "metadata": {
    "collapsed": true
   },
   "outputs": [],
   "source": [
    "def solve(eq,var='x'):\n",
    "    eq1 = eq.replace(\"=\",\"-(\")+\")\"\n",
    "    c = eval(eq1,{var:1j})   \n",
    "    return -c.real/c.imag"
   ]
  },
  {
   "cell_type": "code",
   "execution_count": 43,
   "metadata": {
    "collapsed": false
   },
   "outputs": [
    {
     "name": "stdout",
     "output_type": "stream",
     "text": [
      "60.0\n"
     ]
    }
   ],
   "source": [
    "print solve('((1/3.)*x+5)*(13/5.)=x+5')"
   ]
  },
  {
   "cell_type": "code",
   "execution_count": 46,
   "metadata": {
    "collapsed": false
   },
   "outputs": [
    {
     "name": "stdout",
     "output_type": "stream",
     "text": [
      "Help on built-in function eval in module __builtin__:\n",
      "\n",
      "eval(...)\n",
      "    eval(source[, globals[, locals]]) -> value\n",
      "    \n",
      "    Evaluate the source in the context of globals and locals.\n",
      "    The source may be a string representing a Python expression\n",
      "    or a code object as returned by compile().\n",
      "    The globals must be a dictionary and locals can be any mapping,\n",
      "    defaulting to the current globals and locals.\n",
      "    If only globals is given, locals defaults to it.\n",
      "\n"
     ]
    }
   ],
   "source": [
    "help(eval)"
   ]
  },
  {
   "cell_type": "code",
   "execution_count": 52,
   "metadata": {
    "collapsed": true
   },
   "outputs": [],
   "source": [
    "# same function but easy understanding\n",
    "def fuctionSolve(eq):\n",
    "    x=1j\n",
    "    eq1 = eq.replace(\"=\",\"-(\")+\")\"\n",
    "    c = eval(eq1)   \n",
    "    return -c.real/c.imag"
   ]
  },
  {
   "cell_type": "code",
   "execution_count": 53,
   "metadata": {
    "collapsed": false
   },
   "outputs": [
    {
     "name": "stdout",
     "output_type": "stream",
     "text": [
      "60.0\n"
     ]
    }
   ],
   "source": [
    "print fuctionSolve('((1/3.)*x+5)*(13/5.)=x+5')"
   ]
  },
  {
   "cell_type": "code",
   "execution_count": 54,
   "metadata": {
    "collapsed": true
   },
   "outputs": [],
   "source": [
    "__metaclass__=type\n",
    "class Rectangle:\n",
    "    def __init__(self):\n",
    "        self.width=0\n",
    "        self.heigtht=0\n",
    "    def setSize(self,size):\n",
    "        self.width,self.height=size\n",
    "    def getSize(self):\n",
    "        return self.width,self.height\n",
    "    size=property(getSize,setSize)"
   ]
  },
  {
   "cell_type": "code",
   "execution_count": 55,
   "metadata": {
    "collapsed": false
   },
   "outputs": [
    {
     "name": "stdout",
     "output_type": "stream",
     "text": [
      "10 100\n"
     ]
    }
   ],
   "source": [
    "r=Rectangle()\n",
    "r.setSize((10,100))\n",
    "print r.width,r.height"
   ]
  },
  {
   "cell_type": "code",
   "execution_count": 56,
   "metadata": {
    "collapsed": true
   },
   "outputs": [],
   "source": [
    "__metaclass__=type\n",
    "class MyClass:\n",
    "    def smeth():\n",
    "        print 'This is a static method'\n",
    "    smeth=staticmethod(smeth) # 静态方法\n",
    "    \n",
    "    def cmeth(cls):\n",
    "        print 'This is a class method of',cls\n",
    "    cmeth=classmethod(cmeth) # 类成员方法"
   ]
  },
  {
   "cell_type": "code",
   "execution_count": 57,
   "metadata": {
    "collapsed": true
   },
   "outputs": [],
   "source": [
    "__metaclass__=type\n",
    "class MyClass:\n",
    "    @staticmethod\n",
    "    def smeth():\n",
    "        print 'This is a static method'\n",
    "    @classmethod\n",
    "    def cmeth(cls):\n",
    "        print 'This is a class method of',cls"
   ]
  },
  {
   "cell_type": "code",
   "execution_count": 12,
   "metadata": {
    "collapsed": false
   },
   "outputs": [
    {
     "name": "stdout",
     "output_type": "stream",
     "text": [
      "60.0\n"
     ]
    }
   ],
   "source": [
    "x=1\n",
    "while True:\n",
    "    y=((1/3.)*x+5)*(13/5.)-5\n",
    "    if x==y: break\n",
    "    else: x=y \n",
    "print x"
   ]
  },
  {
   "cell_type": "code",
   "execution_count": 13,
   "metadata": {
    "collapsed": true
   },
   "outputs": [],
   "source": [
    "class Rectangle:\n",
    "    def __init__(self):\n",
    "        self.width=0\n",
    "        self.height=0\n",
    "    def __setattr__(self,name,value):\n",
    "        if name=='size':\n",
    "            self.width,self.height=value\n",
    "        else:\n",
    "            self.__dict__[name]=value\n",
    "    def __getattr__(self,name):\n",
    "        if name=='size':\n",
    "            return self.width,self.height\n",
    "        else:\n",
    "            raise AttributeError"
   ]
  },
  {
   "cell_type": "code",
   "execution_count": 14,
   "metadata": {
    "collapsed": false
   },
   "outputs": [
    {
     "name": "stdout",
     "output_type": "stream",
     "text": [
      "Preparing NY Style Cheese Pizza\n",
      "    dough: NY Dough\n",
      "    sauce: NY Sauce\n",
      "    add toppings:\n",
      "        NY toopping A\n",
      "        NY toopping B\n",
      "Bake for 25 minutes at 350.\n",
      "Cutting into diagonal slices.\n",
      "Put into official box.\n",
      "Mike ordered a NY Style Cheese Pizza.\n",
      "\n",
      "Preparing Chicago Style Clam Pizza\n",
      "    dough: Chicago Dough\n",
      "    sauce: Chicago Sauce\n",
      "    add toppings:\n",
      "        NY toopping A\n",
      "        NY toopping B\n",
      "        Chicago toopping A\n",
      "Bake for 25 minutes at 350.\n",
      "Cutting into square slices.\n",
      "Put into official box.\n",
      "John ordered a Chicago Style Clam Pizza.\n",
      "\n"
     ]
    }
   ],
   "source": [
    "#!/usr/bin/python\n",
    "\n",
    "class Pizza:\n",
    "    name = \"\"\n",
    "    dough = \"\"\n",
    "    sauce = \"\"\n",
    "    toppings = []\n",
    "\n",
    "    def prepare(self):\n",
    "        print \"Preparing %s\" % self.name\n",
    "        print \"    dough: %s\" % self.dough\n",
    "        print \"    sauce: %s\" % self.sauce\n",
    "        print \"    add toppings:\"\n",
    "        for n in self.toppings:\n",
    "            print \"        %s\" % n\n",
    "\n",
    "    def bake(self):\n",
    "        print \"Bake for 25 minutes at 350.\"\n",
    "\n",
    "    def cut(self):\n",
    "        print \"Cutting into diagonal slices.\"\n",
    "\n",
    "    def box(self):\n",
    "        print \"Put into official box.\"\n",
    "\n",
    "    def get_name(self):\n",
    "        return self.name\n",
    "\n",
    "\n",
    "class PizzaStore:\n",
    "    def order_pizza(self, pizza_type):\n",
    "        self.pizza = self.create_pizza(pizza_type)\n",
    "        self.pizza.prepare()\n",
    "        self.pizza.bake()\n",
    "        self.pizza.cut()\n",
    "        self.pizza.box()\n",
    "        return self.pizza\n",
    "\n",
    "    def create_pizza(self, pizza_type):\n",
    "        pass\n",
    "\n",
    "\n",
    "class NYStyleCheesePizza(Pizza):\n",
    "    def __init__(self):\n",
    "        self.name = \"NY Style Cheese Pizza\"\n",
    "        self.dough = \"NY Dough\"\n",
    "        self.sauce = \"NY Sauce\"\n",
    "        self.toppings.append(\"NY toopping A\")\n",
    "        self.toppings.append(\"NY toopping B\")\n",
    "\n",
    "\n",
    "class ChicagoStyleCheesePizza(Pizza):\n",
    "    def __init__(self):\n",
    "        self.name = \"Chicago Style Cheese Pizza\"\n",
    "        self.dough = \"Chicago Dough\"\n",
    "        self.sauce = \"Chicago Sauce\"\n",
    "        sefl.toppings.append(\"Chicago toopping A\")\n",
    "\n",
    "    def cut(self):\n",
    "        print \"Cutting into square slices.\"\n",
    "\n",
    "\n",
    "class NYStyleClamPizza(Pizza):\n",
    "    def __init__(self):\n",
    "        self.name = \"NY Style Clam Pizza\"\n",
    "        self.dough = \"NY Dough\"\n",
    "        self.sauce = \"NY Sauce\"\n",
    "        self.toppings.append(\"NY toopping A\")\n",
    "        self.toppings.append(\"NY toopping B\")\n",
    "\n",
    "\n",
    "class ChicagoStyleClamPizza(Pizza):\n",
    "    def __init__(self):\n",
    "        self.name = \"Chicago Style Clam Pizza\"\n",
    "        self.dough = \"Chicago Dough\"\n",
    "        self.sauce = \"Chicago Sauce\"\n",
    "        self.toppings.append(\"Chicago toopping A\")\n",
    "\n",
    "    def cut(self):\n",
    "        print \"Cutting into square slices.\"\n",
    "\n",
    "\n",
    "class NYPizzaStore(PizzaStore):\n",
    "    def create_pizza(self, pizza_type):\n",
    "        if pizza_type == \"cheese\":\n",
    "            return NYStyleCheesePizza()\n",
    "        elif pizza_type == \"clam\":\n",
    "            return NYStyleClamPizza()\n",
    "        else:\n",
    "            return None\n",
    "\n",
    "\n",
    "class ChicagoPizzaStore(PizzaStore):\n",
    "    def create_pizza(self, pizza_type):\n",
    "        if pizza_type == \"cheese\":\n",
    "            return ChicagoStyleCheesePizza()\n",
    "        elif pizza_type == \"clam\":\n",
    "            return ChicagoStyleClamPizza()\n",
    "        else:\n",
    "            return None\n",
    "\n",
    "if __name__ == \"__main__\":\n",
    "    ny_store = NYPizzaStore()\n",
    "    chicago_store = ChicagoPizzaStore()\n",
    "\n",
    "    pizza = ny_store.order_pizza(\"cheese\")\n",
    "    print \"Mike ordered a %s.\" % pizza.get_name()\n",
    "    print \n",
    "\n",
    "    pizza = chicago_store.order_pizza(\"clam\")\n",
    "    print \"John ordered a %s.\" % pizza.get_name()\n",
    "    print"
   ]
  },
  {
   "cell_type": "code",
   "execution_count": 6,
   "metadata": {
    "collapsed": true
   },
   "outputs": [],
   "source": [
    "class Fibs:\n",
    "    def __init__(self):\n",
    "        self.a=0\n",
    "        self.b=1\n",
    "    def next(self):\n",
    "        self.a,self.b=self.b,self.a+self.b\n",
    "        return self.a\n",
    "    def __iter__(self):\n",
    "        return self"
   ]
  },
  {
   "cell_type": "code",
   "execution_count": 8,
   "metadata": {
    "collapsed": false
   },
   "outputs": [
    {
     "name": "stdout",
     "output_type": "stream",
     "text": [
      "1597\n"
     ]
    }
   ],
   "source": [
    "fibs=Fibs()\n",
    "for f in fibs:\n",
    "    if f>1000:\n",
    "        print f\n",
    "        break"
   ]
  },
  {
   "cell_type": "code",
   "execution_count": 42,
   "metadata": {
    "collapsed": false
   },
   "outputs": [
    {
     "name": "stdout",
     "output_type": "stream",
     "text": [
      "a\n",
      "b\n",
      "c\n",
      "{'three': 3, 'two': 2, 'one': 1}\n",
      "three\n",
      "two\n",
      "one\n"
     ]
    }
   ],
   "source": [
    "#iter and generator\n",
    "#the first try\n",
    "#=================================\n",
    "i = iter('abcd')\n",
    "print i.next()\n",
    "print i.next()\n",
    "print i.next()\n",
    "\n",
    "s = {'one':1,'two':2,'three':3}\n",
    "print s\n",
    "m = iter(s)\n",
    "print m.next()\n",
    "print m.next()\n",
    "print m.next()"
   ]
  },
  {
   "cell_type": "markdown",
   "metadata": {},
   "source": [
    "    *iter*\n",
    "\n",
    "    • 提供了可扩展的迭代器接口\n",
    "    • 对列表迭代带来了性能上的增强\n",
    "    • 在字典迭代中性能提升\n",
    "    • 创建真正的迭代接口，而不是原来的随即对象访问\n",
    "    • 与所有已经存在的用户定义的类以及扩展得模拟序列和映射的对象向后兼容\n",
    "    • 迭代非序列集合（例如映射和文件）时，可以创建更简洁可读的代码"
   ]
  },
  {
   "cell_type": "code",
   "execution_count": 10,
   "metadata": {
    "collapsed": false
   },
   "outputs": [],
   "source": [
    "class TestIterator:\n",
    "    value=0\n",
    "    def next(self):\n",
    "        self.value+=1\n",
    "        if self.value>10: raise StopIteration\n",
    "        return self.value\n",
    "    def __iter__(self):\n",
    "        return self"
   ]
  },
  {
   "cell_type": "code",
   "execution_count": 11,
   "metadata": {
    "collapsed": false
   },
   "outputs": [
    {
     "data": {
      "text/plain": [
       "[1, 2, 3, 4, 5, 6, 7, 8, 9, 10]"
      ]
     },
     "execution_count": 11,
     "metadata": {},
     "output_type": "execute_result"
    }
   ],
   "source": [
    "t1=TestIterator()\n",
    "list(t1)"
   ]
  },
  {
   "cell_type": "code",
   "execution_count": 26,
   "metadata": {
    "collapsed": true
   },
   "outputs": [],
   "source": [
    "def flatten(nested):\n",
    "    for sublist in nested:\n",
    "        for element in sublist:\n",
    "                yield element"
   ]
  },
  {
   "cell_type": "code",
   "execution_count": 27,
   "metadata": {
    "collapsed": false
   },
   "outputs": [
    {
     "data": {
      "text/plain": [
       "[[1, 2], [2, 1], [3, 4], [5]]"
      ]
     },
     "execution_count": 27,
     "metadata": {},
     "output_type": "execute_result"
    }
   ],
   "source": [
    "nested=[[[1,2],[2,1]],[[3,4]],[[5]]]\n",
    "list(flatten(nested))"
   ]
  },
  {
   "cell_type": "code",
   "execution_count": 28,
   "metadata": {
    "collapsed": true
   },
   "outputs": [],
   "source": [
    "def flatten(nested):\n",
    "    for sublist in nested:\n",
    "        for element in sublist:\n",
    "            for subelement in element:\n",
    "                yield subelement"
   ]
  },
  {
   "cell_type": "code",
   "execution_count": 31,
   "metadata": {
    "collapsed": false
   },
   "outputs": [
    {
     "ename": "TypeError",
     "evalue": "'int' object is not iterable",
     "output_type": "error",
     "traceback": [
      "\u001b[1;31m------------------------------------------------------------\u001b[0m",
      "\u001b[1;31mTypeError\u001b[0m                  Traceback (most recent call last)",
      "\u001b[1;32m<ipython-input-31-92987c1f05e9>\u001b[0m in \u001b[0;36m<module>\u001b[1;34m()\u001b[0m\n\u001b[0;32m      1\u001b[0m \u001b[0mnested\u001b[0m\u001b[1;33m=\u001b[0m\u001b[1;33m[\u001b[0m\u001b[1;33m[\u001b[0m\u001b[1;33m[\u001b[0m\u001b[1;36m1\u001b[0m\u001b[1;33m,\u001b[0m\u001b[1;36m2\u001b[0m\u001b[1;33m]\u001b[0m\u001b[1;33m,\u001b[0m\u001b[1;33m[\u001b[0m\u001b[1;36m2\u001b[0m\u001b[1;33m,\u001b[0m\u001b[1;36m1\u001b[0m\u001b[1;33m]\u001b[0m\u001b[1;33m]\u001b[0m\u001b[1;33m,\u001b[0m\u001b[1;33m[\u001b[0m\u001b[1;33m[\u001b[0m\u001b[1;36m3\u001b[0m\u001b[1;33m,\u001b[0m\u001b[1;36m4\u001b[0m\u001b[1;33m]\u001b[0m\u001b[1;33m]\u001b[0m\u001b[1;33m,\u001b[0m\u001b[1;33m[\u001b[0m\u001b[1;36m5\u001b[0m\u001b[1;33m]\u001b[0m\u001b[1;33m]\u001b[0m \u001b[1;31m# 列表之中元素必须是列表，子元素也得是列表最后一个[5]的subelement 是5 int 因此报错\u001b[0m\u001b[1;33m\u001b[0m\u001b[0m\n\u001b[1;32m----> 2\u001b[1;33m \u001b[0mlist\u001b[0m\u001b[1;33m(\u001b[0m\u001b[0mflatten\u001b[0m\u001b[1;33m(\u001b[0m\u001b[0mnested\u001b[0m\u001b[1;33m)\u001b[0m\u001b[1;33m)\u001b[0m\u001b[1;33m\u001b[0m\u001b[0m\n\u001b[0m",
      "\u001b[1;32m<ipython-input-28-16cbe546d768>\u001b[0m in \u001b[0;36mflatten\u001b[1;34m(nested)\u001b[0m\n\u001b[0;32m      2\u001b[0m     \u001b[1;32mfor\u001b[0m \u001b[0msublist\u001b[0m \u001b[1;32min\u001b[0m \u001b[0mnested\u001b[0m\u001b[1;33m:\u001b[0m\u001b[1;33m\u001b[0m\u001b[0m\n\u001b[0;32m      3\u001b[0m         \u001b[1;32mfor\u001b[0m \u001b[0melement\u001b[0m \u001b[1;32min\u001b[0m \u001b[0msublist\u001b[0m\u001b[1;33m:\u001b[0m\u001b[1;33m\u001b[0m\u001b[0m\n\u001b[1;32m----> 4\u001b[1;33m             \u001b[1;32mfor\u001b[0m \u001b[0msubelement\u001b[0m \u001b[1;32min\u001b[0m \u001b[0melement\u001b[0m\u001b[1;33m:\u001b[0m\u001b[1;33m\u001b[0m\u001b[0m\n\u001b[0m\u001b[0;32m      5\u001b[0m                 \u001b[1;32myield\u001b[0m \u001b[0msubelement\u001b[0m\u001b[1;33m\u001b[0m\u001b[0m\n",
      "\u001b[1;31mTypeError\u001b[0m: 'int' object is not iterable"
     ]
    }
   ],
   "source": [
    "nested=[[[1,2],[2,1]],[[3,4]],[5]] # 列表之中元素必须是列表，子元素也得是列表最后一个[5]的subelement 是5 int 因此报错\n",
    "list(flatten(nested))"
   ]
  },
  {
   "cell_type": "code",
   "execution_count": 43,
   "metadata": {
    "collapsed": true
   },
   "outputs": [],
   "source": [
    "def flatten(nested):\n",
    "    try:\n",
    "        for sublist in nested:\n",
    "            for element in flatten(sublist):\n",
    "                yield element\n",
    "    except TypeError:\n",
    "        yield nested"
   ]
  },
  {
   "cell_type": "code",
   "execution_count": 44,
   "metadata": {
    "collapsed": false
   },
   "outputs": [
    {
     "name": "stdout",
     "output_type": "stream",
     "text": [
      "[1, 2, 1, 10, 1, 1, 2, 5, 4]\n"
     ]
    },
    {
     "ename": "RuntimeError",
     "evalue": "maximum recursion depth exceeded",
     "output_type": "error",
     "traceback": [
      "\u001b[1;31m---------------------------------------------------------------------------\u001b[0m",
      "\u001b[1;31mRuntimeError\u001b[0m                              Traceback (most recent call last)",
      "\u001b[1;32m<ipython-input-44-800f0ec6a4a7>\u001b[0m in \u001b[0;36m<module>\u001b[1;34m()\u001b[0m\n\u001b[0;32m      2\u001b[0m \u001b[1;32mprint\u001b[0m \u001b[0mlist\u001b[0m\u001b[1;33m(\u001b[0m\u001b[0mflatten\u001b[0m\u001b[1;33m(\u001b[0m\u001b[0mtest\u001b[0m\u001b[1;33m)\u001b[0m\u001b[1;33m)\u001b[0m\u001b[1;33m\u001b[0m\u001b[0m\n\u001b[0;32m      3\u001b[0m \u001b[0mtest1\u001b[0m\u001b[1;33m=\u001b[0m\u001b[1;33m[\u001b[0m\u001b[1;34m'a'\u001b[0m\u001b[1;33m,\u001b[0m\u001b[1;33m[\u001b[0m\u001b[1;34m'b'\u001b[0m\u001b[1;33m,\u001b[0m\u001b[1;33m[\u001b[0m\u001b[1;34m'c'\u001b[0m\u001b[1;33m]\u001b[0m\u001b[1;33m]\u001b[0m\u001b[1;33m]\u001b[0m\u001b[1;33m\u001b[0m\u001b[0m\n\u001b[1;32m----> 4\u001b[1;33m \u001b[1;32mprint\u001b[0m \u001b[0mlist\u001b[0m\u001b[1;33m(\u001b[0m\u001b[0mflatten\u001b[0m\u001b[1;33m(\u001b[0m\u001b[0mtest1\u001b[0m\u001b[1;33m)\u001b[0m\u001b[1;33m)\u001b[0m\u001b[1;33m\u001b[0m\u001b[0m\n\u001b[0m",
      "\u001b[1;32m<ipython-input-43-7539777e41ac>\u001b[0m in \u001b[0;36mflatten\u001b[1;34m(nested)\u001b[0m\n\u001b[0;32m      2\u001b[0m     \u001b[1;32mtry\u001b[0m\u001b[1;33m:\u001b[0m\u001b[1;33m\u001b[0m\u001b[0m\n\u001b[0;32m      3\u001b[0m         \u001b[1;32mfor\u001b[0m \u001b[0msublist\u001b[0m \u001b[1;32min\u001b[0m \u001b[0mnested\u001b[0m\u001b[1;33m:\u001b[0m\u001b[1;33m\u001b[0m\u001b[0m\n\u001b[1;32m----> 4\u001b[1;33m             \u001b[1;32mfor\u001b[0m \u001b[0melement\u001b[0m \u001b[1;32min\u001b[0m \u001b[0mflatten\u001b[0m\u001b[1;33m(\u001b[0m\u001b[0msublist\u001b[0m\u001b[1;33m)\u001b[0m\u001b[1;33m:\u001b[0m\u001b[1;33m\u001b[0m\u001b[0m\n\u001b[0m\u001b[0;32m      5\u001b[0m                 \u001b[1;32myield\u001b[0m \u001b[0melement\u001b[0m\u001b[1;33m\u001b[0m\u001b[0m\n\u001b[0;32m      6\u001b[0m     \u001b[1;32mexcept\u001b[0m \u001b[0mTypeError\u001b[0m\u001b[1;33m:\u001b[0m\u001b[1;33m\u001b[0m\u001b[0m\n",
      "... last 1 frames repeated, from the frame below ...\n",
      "\u001b[1;32m<ipython-input-43-7539777e41ac>\u001b[0m in \u001b[0;36mflatten\u001b[1;34m(nested)\u001b[0m\n\u001b[0;32m      2\u001b[0m     \u001b[1;32mtry\u001b[0m\u001b[1;33m:\u001b[0m\u001b[1;33m\u001b[0m\u001b[0m\n\u001b[0;32m      3\u001b[0m         \u001b[1;32mfor\u001b[0m \u001b[0msublist\u001b[0m \u001b[1;32min\u001b[0m \u001b[0mnested\u001b[0m\u001b[1;33m:\u001b[0m\u001b[1;33m\u001b[0m\u001b[0m\n\u001b[1;32m----> 4\u001b[1;33m             \u001b[1;32mfor\u001b[0m \u001b[0melement\u001b[0m \u001b[1;32min\u001b[0m \u001b[0mflatten\u001b[0m\u001b[1;33m(\u001b[0m\u001b[0msublist\u001b[0m\u001b[1;33m)\u001b[0m\u001b[1;33m:\u001b[0m\u001b[1;33m\u001b[0m\u001b[0m\n\u001b[0m\u001b[0;32m      5\u001b[0m                 \u001b[1;32myield\u001b[0m \u001b[0melement\u001b[0m\u001b[1;33m\u001b[0m\u001b[0m\n\u001b[0;32m      6\u001b[0m     \u001b[1;32mexcept\u001b[0m \u001b[0mTypeError\u001b[0m\u001b[1;33m:\u001b[0m\u001b[1;33m\u001b[0m\u001b[0m\n",
      "\u001b[1;31mRuntimeError\u001b[0m: maximum recursion depth exceeded"
     ]
    }
   ],
   "source": [
    "test=[[1,2],[[1,[10,1]]],1,2,[5,4]]\n",
    "print list(flatten(test))\n",
    "test1=['a',['b',['c']]]\n",
    "print list(flatten(test1))"
   ]
  },
  {
   "cell_type": "code",
   "execution_count": 45,
   "metadata": {
    "collapsed": false
   },
   "outputs": [],
   "source": [
    "def flatten(nested):\n",
    "    try:\n",
    "        try:\n",
    "            nested+''\n",
    "        except TypeError: pass\n",
    "        else: raise TypeError\n",
    "        for sublist in nested:\n",
    "            for element in flatten(sublist):\n",
    "                yield element\n",
    "    except TypeError:\n",
    "        yield nested"
   ]
  },
  {
   "cell_type": "code",
   "execution_count": 46,
   "metadata": {
    "collapsed": false
   },
   "outputs": [
    {
     "name": "stdout",
     "output_type": "stream",
     "text": [
      "[1, 2, 1, 10, 1, 1, 2, 5, 4]\n",
      "['a', 'b', 'c']\n"
     ]
    }
   ],
   "source": [
    "test=[[1,2],[[1,[10,1]]],1,2,[5,4]]\n",
    "print list(flatten(test))\n",
    "test1=['a',['b',['c']]]\n",
    "print list(flatten(test1))"
   ]
  },
  {
   "cell_type": "code",
   "execution_count": 48,
   "metadata": {
    "collapsed": false
   },
   "outputs": [],
   "source": [
    "def flatten(nested):\n",
    "    result=[]\n",
    "    try:\n",
    "        try: nested+''\n",
    "        except TypeError: pass\n",
    "        else: raise TypeError\n",
    "        for sublist in nested:\n",
    "            for element in flatten(sublist):\n",
    "                result.append(element)\n",
    "    except TypeError:\n",
    "        result.append(nested)\n",
    "    return result"
   ]
  },
  {
   "cell_type": "code",
   "execution_count": 49,
   "metadata": {
    "collapsed": false
   },
   "outputs": [
    {
     "name": "stdout",
     "output_type": "stream",
     "text": [
      "[1, 2, 1, 10, 1, 1, 2, 5, 4]\n",
      "['a', 'b', 'c']\n"
     ]
    }
   ],
   "source": [
    "test=[[1,2],[[1,[10,1]]],1,2,[5,4]]\n",
    "print list(flatten(test))\n",
    "test1=['a',['b',['c']]]\n",
    "print list(flatten(test1))"
   ]
  },
  {
   "cell_type": "code",
   "execution_count": 2,
   "metadata": {
    "collapsed": false
   },
   "outputs": [],
   "source": [
    "# Eight Queens\n",
    "def conflict(state,nextX):\n",
    "    nextY=len(state)\n",
    "    for i in range(nextY):\n",
    "        if abs(state[i]-nextX) in (0,nextY-i):\n",
    "            return True\n",
    "    return False\n",
    "\n",
    "def queens(num=8,state=()):\n",
    "    for pos in range(num):\n",
    "        if not conflict(state,pos):\n",
    "            if len(state)==num-1:\n",
    "                yield (pos,)\n",
    "            else:\n",
    "                for result in queens(num,state+(pos,)):\n",
    "                    yield (pos,)+result\n",
    "\n",
    "def prettyprint(solution):\n",
    "    def line(pos,length=len(solution)):\n",
    "        return '. '*(pos)+'X '+'. '*(length-pos-1)\n",
    "    for pos in solution:\n",
    "        print line(pos)"
   ]
  },
  {
   "cell_type": "code",
   "execution_count": 39,
   "metadata": {
    "collapsed": false
   },
   "outputs": [
    {
     "name": "stdout",
     "output_type": "stream",
     "text": [
      ". . . . . X . . \n",
      ". . . X . . . . \n",
      ". X . . . . . . \n",
      ". . . . . . . X \n",
      ". . . . X . . . \n",
      ". . . . . . X . \n",
      "X . . . . . . . \n",
      ". . X . . . . . \n"
     ]
    }
   ],
   "source": [
    "import random\n",
    "prettyprint(random.choice(list(queens(8))))"
   ]
  },
  {
   "cell_type": "code",
   "execution_count": null,
   "metadata": {
    "collapsed": false
   },
   "outputs": [],
   "source": []
  },
  {
   "cell_type": "code",
   "execution_count": null,
   "metadata": {
    "collapsed": false
   },
   "outputs": [],
   "source": []
  },
  {
   "cell_type": "code",
   "execution_count": null,
   "metadata": {
    "collapsed": true
   },
   "outputs": [],
   "source": []
  }
 ],
 "metadata": {
  "kernelspec": {
   "display_name": "Python 2",
   "language": "python",
   "name": "python2"
  },
  "language_info": {
   "codemirror_mode": {
    "name": "ipython",
    "version": 2
   },
   "file_extension": ".py",
   "mimetype": "text/x-python",
   "name": "python",
   "nbconvert_exporter": "python",
   "pygments_lexer": "ipython2",
   "version": "2.7.11"
  }
 },
 "nbformat": 4,
 "nbformat_minor": 0
}
